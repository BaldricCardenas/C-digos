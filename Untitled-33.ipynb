{
 "cells": [
  {
   "cell_type": "code",
   "execution_count": 1,
   "id": "2f7f9d69",
   "metadata": {},
   "outputs": [
    {
     "name": "stdout",
     "output_type": "stream",
     "text": [
      "Channels:\n",
      " - omnia\n",
      " - conda-forge\n",
      " - defaults\n",
      "Platform: osx-arm64\n",
      "Collecting package metadata (repodata.json): done\n",
      "Solving environment: done\n",
      "\n",
      "# All requested packages already installed.\n",
      "\n",
      "\n",
      "Note: you may need to restart the kernel to use updated packages.\n"
     ]
    }
   ],
   "source": [
    "conda install -c omnia -c conda-forge openmm"
   ]
  },
  {
   "cell_type": "code",
   "execution_count": 2,
   "id": "21217ed7",
   "metadata": {},
   "outputs": [
    {
     "name": "stdout",
     "output_type": "stream",
     "text": [
      "Channels:\n",
      " - conda-forge\n",
      " - defaults\n",
      "Platform: osx-arm64\n",
      "Collecting package metadata (repodata.json): done\n",
      "Solving environment: failed\n",
      "\n",
      "PackagesNotFoundError: The following packages are not available from current channels:\n",
      "\n",
      "  - vmd\n",
      "\n",
      "Current channels:\n",
      "\n",
      "  - https://conda.anaconda.org/conda-forge\n",
      "  - defaults\n",
      "  - https://repo.anaconda.com/pkgs/main\n",
      "  - https://repo.anaconda.com/pkgs/r\n",
      "\n",
      "To search for alternate channels that may provide the conda package you're\n",
      "looking for, navigate to\n",
      "\n",
      "    https://anaconda.org\n",
      "\n",
      "and use the search bar at the top of the page.\n",
      "\n",
      "\n",
      "\n",
      "Note: you may need to restart the kernel to use updated packages.\n"
     ]
    }
   ],
   "source": [
    "conda install -c conda-forge vmd"
   ]
  },
  {
   "cell_type": "code",
   "execution_count": 3,
   "id": "5aeef834",
   "metadata": {},
   "outputs": [],
   "source": [
    "import shlex       # Optional\n",
    "import subprocess  # Optional\n",
    "\n",
    "import matplotlib as mpl\n",
    "import matplotlib.pyplot as plt"
   ]
  },
  {
   "cell_type": "code",
   "execution_count": 5,
   "id": "14be6872",
   "metadata": {},
   "outputs": [],
   "source": [
    "# Matplotlib configuration\n",
    "mpl.rcParams.update(mpl.rcParamsDefault)\n",
    "#mpl.rc_file('../../matplotlibrc', use_default_template=False)"
   ]
  },
  {
   "cell_type": "code",
   "execution_count": 6,
   "id": "3f1daea0",
   "metadata": {},
   "outputs": [
    {
     "name": "stdout",
     "output_type": "stream",
     "text": [
      "CRYST1   79.860   79.860   90.170  90.00  90.00  90.00 P 1           1\n",
      "ATOM      1  N   GLY A 198       1.923  33.617   6.889  1.00 29.44           N\n",
      "ATOM      2  CA  GLY A 198       2.927  34.067   5.942  1.00 33.42           C\n",
      "ATOM      3  C   GLY A 198       4.064  33.079   5.747  1.00 21.30           C\n",
      "ATOM      4  O   GLY A 198       5.016  33.355   5.022  1.00 26.76           O\n",
      "ATOM      5  N   TRP A 199       3.964  31.919   6.391  1.00 19.08           N\n",
      "ATOM      6  CA  TRP A 199       4.990  30.892   6.261  1.00 19.93           C\n",
      "ATOM      7  C   TRP A 199       4.987  30.356   4.840  1.00 28.23           C\n",
      "ATOM      8  O   TRP A 199       3.926  30.117   4.255  1.00 30.68           O\n",
      "ATOM      9  CB  TRP A 199       4.772  29.756   7.263  1.00 22.11           C\n",
      "================================================================================\n",
      "Total line count:  10238\n"
     ]
    }
   ],
   "source": [
    "# Lets have a look into the PDB file\n",
    "with open(\"3p5g.pdb\") as pdb_file:\n",
    "    show = 10  # Lines to show\n",
    "    for lc, line in enumerate(pdb_file):\n",
    "        # Print the first lines of the file\n",
    "        if lc < show:\n",
    "            print(line.strip())\n",
    "print(\"=\" * 80)\n",
    "print(\"Total line count: \", lc)"
   ]
  },
  {
   "cell_type": "code",
   "execution_count": 7,
   "id": "85adbc16",
   "metadata": {},
   "outputs": [],
   "source": [
    "# What is the protein sequence?\n",
    "with open(\"3p5g.pdb\") as pdb_file:\n",
    "    for line in pdb_file:\n",
    "        if line.startswith(\"SEQRES\"):\n",
    "            line = line.split()\n",
    "            if line[2] == \"A\":\n",
    "                # Only print sequence for chain A\n",
    "                print(*line[4:])"
   ]
  },
  {
   "cell_type": "code",
   "execution_count": 8,
   "id": "098b6cea",
   "metadata": {},
   "outputs": [],
   "source": [
    "# What else is in the file?\n",
    "with open(\"3p5g.pdb\") as pdb_file:\n",
    "    for line in pdb_file:\n",
    "        if line.startswith((\"HETNAM\", \"FORMUL\")):\n",
    "            print(line.strip())"
   ]
  },
  {
   "cell_type": "code",
   "execution_count": 9,
   "id": "596bc520",
   "metadata": {},
   "outputs": [
    {
     "name": "stdout",
     "output_type": "stream",
     "text": [
      "ATOM      1  N   GLY A 198       1.923  33.617   6.889  1.00 29.44           N\n",
      "ATOM      2  CA  GLY A 198       2.927  34.067   5.942  1.00 33.42           C\n",
      "ATOM      3  C   GLY A 198       4.064  33.079   5.747  1.00 21.30           C\n",
      "ATOM      4  O   GLY A 198       5.016  33.355   5.022  1.00 26.76           O\n",
      "ATOM      5  N   TRP A 199       3.964  31.919   6.391  1.00 19.08           N\n",
      "ATOM      6  CA  TRP A 199       4.990  30.892   6.261  1.00 19.93           C\n",
      "ATOM      7  C   TRP A 199       4.987  30.356   4.840  1.00 28.23           C\n",
      "ATOM      8  O   TRP A 199       3.926  30.117   4.255  1.00 30.68           O\n",
      "ATOM      9  CB  TRP A 199       4.772  29.756   7.263  1.00 22.11           C\n",
      "ATOM     10  CG  TRP A 199       4.961  30.161   8.697  1.00 19.73           C\n"
     ]
    }
   ],
   "source": [
    "with open(\"3p5g.pdb\") as pdb_file:\n",
    "    show = 10\n",
    "    count = 0\n",
    "    # Print the first ATOM entries\n",
    "    for line in pdb_file:\n",
    "        if count >= show:\n",
    "            break\n",
    "        if line.startswith((\"ATOM\")):\n",
    "            print(line.strip())\n",
    "            count += 1"
   ]
  },
  {
   "cell_type": "code",
   "execution_count": 22,
   "id": "4739b7f2",
   "metadata": {},
   "outputs": [],
   "source": [
    "with open(\"3p5g.pdb\") as pdb_file:\n",
    "    show = 34\n",
    "    count = 0\n",
    "    # Print the first HETATM entries\n",
    "    for line in pdb_file:\n",
    "        if count >= show:\n",
    "            break\n",
    "        if line.startswith((\"HETATM\")):\n",
    "            print(line.strip())\n",
    "            count += 1"
   ]
  },
  {
   "cell_type": "code",
   "execution_count": 23,
   "id": "9d69756b",
   "metadata": {},
   "outputs": [
    {
     "name": "stdout",
     "output_type": "stream",
     "text": [
      "ATOM    658  CA ASER A 277      29.047  24.388   2.751  0.50 19.39           C\n",
      "ATOM    659  CA BSER A 277      29.040  24.387   2.738  0.50 18.11           C\n",
      "ATOM    662  CB ASER A 277      28.811  24.669   4.239  0.50 18.59           C\n",
      "ATOM    663  CB BSER A 277      28.762  24.666   4.218  0.50 17.85           C\n",
      "ATOM    664  OG ASER A 277      27.712  23.928   4.738  0.50 15.78           O\n",
      "ATOM    665  OG BSER A 277      29.938  24.530   4.996  0.50 17.39           O\n",
      "ATOM    658  CA ASER A 277      29.047  24.388   2.751  0.50 19.39           C\n",
      "ATOM    659  CA BSER A 277      29.040  24.387   2.738  0.50 18.11           C\n",
      "ATOM    662  CB ASER A 277      28.811  24.669   4.239  0.50 18.59           C\n",
      "ATOM    663  CB BSER A 277      28.762  24.666   4.218  0.50 17.85           C\n",
      "ATOM    664  OG ASER A 277      27.712  23.928   4.738  0.50 15.78           O\n",
      "ATOM    665  OG BSER A 277      29.938  24.530   4.996  0.50 17.39           O\n"
     ]
    }
   ],
   "source": [
    "# Check structure for alternative atom positions\n",
    "with open(\"3p5g.pdb\") as pdb_file:\n",
    "    for line in pdb_file:\n",
    "        if not line.startswith(\"ATOM\"):\n",
    "            continue\n",
    "        if not line[21] == \"A\":  # Chain A?\n",
    "            continue\n",
    "        if line[16] != \" \":      # Alternativ atoms positions?\n",
    "            print(line.strip())"
   ]
  },
  {
   "cell_type": "code",
   "execution_count": 24,
   "id": "be22950b",
   "metadata": {},
   "outputs": [],
   "source": [
    "allowed_res_ids = list(range(198, 326)) + [500]\n",
    "# Protein 198 to 325 and Ca\n",
    "\n",
    "# Copy desired information from one file to another\n",
    "with open(\"3p5g.pdb\") as in_file:\n",
    "    with open(\"chain_A.pdb\", \"w\") as out_file:\n",
    "        for line in in_file:\n",
    "            if line.startswith((\"ATOM\", \"TER\", \"HETATM\")):\n",
    "                # check for atomic entries\n",
    "                if not line[21] == \"A\":\n",
    "                    # Chain A?\n",
    "                    continue\n",
    "                if not int(line[22:26]) in allowed_res_ids:\n",
    "                    # Keep residue?\n",
    "                    continue\n",
    "                if line[16] == \"B\":  # Alternative set of atoms?\n",
    "                    # Throw away location B\n",
    "                    continue\n",
    "                if line[16] == \"A\":  # Alternative set of atoms?\n",
    "                    # Keep location A\n",
    "                    line = line[:16] + \" \" + line[17:]\n",
    "            out_file.write(line)"
   ]
  },
  {
   "cell_type": "code",
   "execution_count": 25,
   "id": "0f32e62d",
   "metadata": {},
   "outputs": [],
   "source": [
    "import pdbfixer\n",
    "import simtk.openmm.app as app  # OpenMM interface"
   ]
  },
  {
   "cell_type": "code",
   "execution_count": 26,
   "id": "be5161b5",
   "metadata": {},
   "outputs": [
    {
     "name": "stdout",
     "output_type": "stream",
     "text": [
      "{}\n"
     ]
    }
   ],
   "source": [
    "fixer = pdbfixer.PDBFixer(\"chain_A.pdb\")  # Load file\n",
    "fixer.findMissingResidues()               # Identify missing residues\n",
    "fixer.findMissingAtoms()                  # Identify missing atoms\n",
    "print(fixer.missingResidues)"
   ]
  },
  {
   "cell_type": "code",
   "execution_count": 27,
   "id": "472c498a",
   "metadata": {},
   "outputs": [],
   "source": [
    "fixer.addMissingAtoms()  # Apply the fix\n",
    "app.PDBFile.writeFile(fixer.topology, fixer.positions, open('chain_A_fixed.pdb', 'w'))\n",
    "# Save to file"
   ]
  },
  {
   "cell_type": "code",
   "execution_count": 28,
   "id": "aa303012",
   "metadata": {},
   "outputs": [],
   "source": [
    "offset = 192 # Residue numbering should start here\n",
    "\n",
    "# Fix residue numbering\n",
    "with open('chain_A_fixed.pdb') as in_file:\n",
    "    with open('chain_A_fixednumbering.pdb', \"w\") as out_file:\n",
    "        for line in in_file:\n",
    "            if line.startswith((\"ATOM\", \"TER\", \"HETATM\")) and line[21] == \"A\":\n",
    "                resid = int(line[22:26]) + offset\n",
    "                line = line[:22] + f\"{resid:>4}\" + line[26:]\n",
    "            out_file.write(line)"
   ]
  },
  {
   "cell_type": "code",
   "execution_count": 29,
   "id": "a009029f",
   "metadata": {},
   "outputs": [],
   "source": [
    "import simtk.openmm as mm       # Main OpenMM functionality\n",
    "import simtk.openmm.app as app  # Application layer (handy interface)\n",
    "import simtk.unit as unit       # Unit/quantaty handling"
   ]
  },
  {
   "cell_type": "code",
   "execution_count": 30,
   "id": "fce241ec",
   "metadata": {},
   "outputs": [
    {
     "data": {
      "text/plain": [
       "Quantity(value=Vec3(x=0.19230000000000003, y=3.3617, z=0.6889000000000001), unit=nanometer)"
      ]
     },
     "execution_count": 30,
     "metadata": {},
     "output_type": "execute_result"
    }
   ],
   "source": [
    "molecule = app.PDBFile(\"chain_A_fixednumbering.pdb\")  # Load PDB\n",
    "molecule.positions[0]  # Access position of atom 1"
   ]
  },
  {
   "cell_type": "code",
   "execution_count": 31,
   "id": "901759f9",
   "metadata": {},
   "outputs": [
    {
     "data": {
      "text/plain": [
       "<Topology; 1 chains, 129 residues, 1043 atoms, 1083 bonds>"
      ]
     },
     "execution_count": 31,
     "metadata": {},
     "output_type": "execute_result"
    }
   ],
   "source": [
    "molecule.topology"
   ]
  },
  {
   "cell_type": "code",
   "execution_count": 32,
   "id": "09307063",
   "metadata": {},
   "outputs": [],
   "source": [
    "forcefield = app.ForceField(\n",
    "    \"amber14/protein.ff14SB.xml\",\n",
    "    \"amber14/tip3p.xml\"\n",
    ")"
   ]
  },
  {
   "cell_type": "code",
   "execution_count": 33,
   "id": "927fb597",
   "metadata": {},
   "outputs": [
    {
     "ename": "ValueError",
     "evalue": "No template found for residue 128 (PRO).  The set of atoms matches PRO, but the bonds are different.  For more information, see https://github.com/openmm/openmm/wiki/Frequently-Asked-Questions#template",
     "output_type": "error",
     "traceback": [
      "\u001b[31m---------------------------------------------------------------------------\u001b[39m",
      "\u001b[31mValueError\u001b[39m                                Traceback (most recent call last)",
      "\u001b[36mCell\u001b[39m\u001b[36m \u001b[39m\u001b[32mIn[33]\u001b[39m\u001b[32m, line 4\u001b[39m\n\u001b[32m      1\u001b[39m model = app.Modeller(molecule.topology, molecule.positions)\n\u001b[32m      2\u001b[39m \u001b[38;5;66;03m# Prepare molecule for modeling\u001b[39;00m\n\u001b[32m----> \u001b[39m\u001b[32m4\u001b[39m \u001b[43mmodel\u001b[49m\u001b[43m.\u001b[49m\u001b[43maddHydrogens\u001b[49m\u001b[43m(\u001b[49m\n\u001b[32m      5\u001b[39m \u001b[43m    \u001b[49m\u001b[43mforcefield\u001b[49m\n\u001b[32m      6\u001b[39m \u001b[43m    \u001b[49m\u001b[43m)\u001b[49m\n\u001b[32m      8\u001b[39m model.addSolvent(\n\u001b[32m      9\u001b[39m     forcefield,\n\u001b[32m     10\u001b[39m     padding=\u001b[32m1\u001b[39m*unit.nanometer,\n\u001b[32m     11\u001b[39m     neutralize=\u001b[38;5;28;01mTrue\u001b[39;00m\n\u001b[32m     12\u001b[39m     )\n",
      "\u001b[36mFile \u001b[39m\u001b[32m/opt/anaconda3/envs/bioinformatica_py/lib/python3.12/site-packages/openmm/app/modeller.py:1035\u001b[39m, in \u001b[36mModeller.addHydrogens\u001b[39m\u001b[34m(self, forcefield, pH, variants, platform, residueTemplates)\u001b[39m\n\u001b[32m   1030\u001b[39m addedH = \u001b[38;5;28mset\u001b[39m(newIndices)  \u001b[38;5;66;03m# keep track of Hs added\u001b[39;00m\n\u001b[32m   1032\u001b[39m \u001b[38;5;28;01mif\u001b[39;00m forcefield \u001b[38;5;129;01mis\u001b[39;00m \u001b[38;5;129;01mnot\u001b[39;00m \u001b[38;5;28;01mNone\u001b[39;00m:\n\u001b[32m   1033\u001b[39m     \u001b[38;5;66;03m# Use the ForceField the user specified.\u001b[39;00m\n\u001b[32m-> \u001b[39m\u001b[32m1035\u001b[39m     system = \u001b[43mforcefield\u001b[49m\u001b[43m.\u001b[49m\u001b[43mcreateSystem\u001b[49m\u001b[43m(\u001b[49m\u001b[43mnewTopology\u001b[49m\u001b[43m,\u001b[49m\u001b[43m \u001b[49m\u001b[43mrigidWater\u001b[49m\u001b[43m=\u001b[49m\u001b[38;5;28;43;01mFalse\u001b[39;49;00m\u001b[43m,\u001b[49m\u001b[43m \u001b[49m\u001b[43mnonbondedMethod\u001b[49m\u001b[43m=\u001b[49m\u001b[43mCutoffNonPeriodic\u001b[49m\u001b[43m,\u001b[49m\u001b[43m \u001b[49m\u001b[43mresidueTemplates\u001b[49m\u001b[43m=\u001b[49m\u001b[43mnewResidueTemplates\u001b[49m\u001b[43m)\u001b[49m\n\u001b[32m   1036\u001b[39m     \u001b[38;5;28;01mfor\u001b[39;00m i \u001b[38;5;129;01min\u001b[39;00m \u001b[38;5;28mrange\u001b[39m(system.getNumParticles()):\n\u001b[32m   1037\u001b[39m         \u001b[38;5;28;01mif\u001b[39;00m i \u001b[38;5;129;01mnot\u001b[39;00m \u001b[38;5;129;01min\u001b[39;00m addedH:\n\u001b[32m   1038\u001b[39m             \u001b[38;5;66;03m# Existing atom, make it immobile.\u001b[39;00m\n",
      "\u001b[36mFile \u001b[39m\u001b[32m/opt/anaconda3/envs/bioinformatica_py/lib/python3.12/site-packages/openmm/app/forcefield.py:1257\u001b[39m, in \u001b[36mForceField.createSystem\u001b[39m\u001b[34m(self, topology, nonbondedMethod, nonbondedCutoff, constraints, rigidWater, removeCMMotion, hydrogenMass, residueTemplates, ignoreExternalBonds, switchDistance, flexibleConstraints, drudeMass, **args)\u001b[39m\n\u001b[32m   1253\u001b[39m rigidResidue = [\u001b[38;5;28;01mFalse\u001b[39;00m]*topology.getNumResidues()\n\u001b[32m   1255\u001b[39m \u001b[38;5;66;03m# Find the template matching each residue and assign atom types.\u001b[39;00m\n\u001b[32m-> \u001b[39m\u001b[32m1257\u001b[39m templateForResidue = \u001b[38;5;28;43mself\u001b[39;49m\u001b[43m.\u001b[49m\u001b[43m_matchAllResiduesToTemplates\u001b[49m\u001b[43m(\u001b[49m\u001b[43mdata\u001b[49m\u001b[43m,\u001b[49m\u001b[43m \u001b[49m\u001b[43mtopology\u001b[49m\u001b[43m,\u001b[49m\u001b[43m \u001b[49m\u001b[43mresidueTemplates\u001b[49m\u001b[43m,\u001b[49m\u001b[43m \u001b[49m\u001b[43mignoreExternalBonds\u001b[49m\u001b[43m)\u001b[49m\n\u001b[32m   1258\u001b[39m \u001b[38;5;28;01mfor\u001b[39;00m res \u001b[38;5;129;01min\u001b[39;00m topology.residues():\n\u001b[32m   1259\u001b[39m     \u001b[38;5;28;01mif\u001b[39;00m res.name == \u001b[33m'\u001b[39m\u001b[33mHOH\u001b[39m\u001b[33m'\u001b[39m:\n\u001b[32m   1260\u001b[39m         \u001b[38;5;66;03m# Determine whether this should be a rigid water.\u001b[39;00m\n",
      "\u001b[36mFile \u001b[39m\u001b[32m/opt/anaconda3/envs/bioinformatica_py/lib/python3.12/site-packages/openmm/app/forcefield.py:1472\u001b[39m, in \u001b[36mForceField._matchAllResiduesToTemplates\u001b[39m\u001b[34m(self, data, topology, residueTemplates, ignoreExternalBonds, ignoreExtraParticles, recordParameters)\u001b[39m\n\u001b[32m   1470\u001b[39m                 \u001b[38;5;28;01mbreak\u001b[39;00m\n\u001b[32m   1471\u001b[39m \u001b[38;5;28;01mif\u001b[39;00m matches \u001b[38;5;129;01mis\u001b[39;00m \u001b[38;5;28;01mNone\u001b[39;00m:\n\u001b[32m-> \u001b[39m\u001b[32m1472\u001b[39m     \u001b[38;5;28;01mraise\u001b[39;00m \u001b[38;5;167;01mValueError\u001b[39;00m(\u001b[33m'\u001b[39m\u001b[33mNo template found for residue \u001b[39m\u001b[38;5;132;01m%d\u001b[39;00m\u001b[33m (\u001b[39m\u001b[38;5;132;01m%s\u001b[39;00m\u001b[33m).  \u001b[39m\u001b[38;5;132;01m%s\u001b[39;00m\u001b[33m  For more information, see https://github.com/openmm/openmm/wiki/Frequently-Asked-Questions#template\u001b[39m\u001b[33m'\u001b[39m % (res.index+\u001b[32m1\u001b[39m, res.name, _findMatchErrors(\u001b[38;5;28mself\u001b[39m, res)))\n\u001b[32m   1473\u001b[39m \u001b[38;5;28;01melse\u001b[39;00m:\n\u001b[32m   1474\u001b[39m     \u001b[38;5;28;01mif\u001b[39;00m recordParameters:\n",
      "\u001b[31mValueError\u001b[39m: No template found for residue 128 (PRO).  The set of atoms matches PRO, but the bonds are different.  For more information, see https://github.com/openmm/openmm/wiki/Frequently-Asked-Questions#template"
     ]
    }
   ],
   "source": [
    "model = app.Modeller(molecule.topology, molecule.positions)\n",
    "# Prepare molecule for modeling\n",
    "\n",
    "model.addHydrogens(\n",
    "    forcefield\n",
    "    )\n",
    "\n",
    "model.addSolvent(\n",
    "    forcefield,\n",
    "    padding=1*unit.nanometer,\n",
    "    neutralize=True\n",
    "    )"
   ]
  },
  {
   "cell_type": "code",
   "execution_count": null,
   "id": "234b1927",
   "metadata": {},
   "outputs": [],
   "source": []
  }
 ],
 "metadata": {
  "kernelspec": {
   "display_name": "bioinformatica_py",
   "language": "python",
   "name": "python3"
  },
  "language_info": {
   "codemirror_mode": {
    "name": "ipython",
    "version": 3
   },
   "file_extension": ".py",
   "mimetype": "text/x-python",
   "name": "python",
   "nbconvert_exporter": "python",
   "pygments_lexer": "ipython3",
   "version": "3.12.2"
  }
 },
 "nbformat": 4,
 "nbformat_minor": 5
}
