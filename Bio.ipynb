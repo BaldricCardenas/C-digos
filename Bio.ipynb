{
 "cells": [
  {
   "cell_type": "code",
   "execution_count": 2,
   "id": "52677f6b",
   "metadata": {},
   "outputs": [
    {
     "name": "stdout",
     "output_type": "stream",
     "text": [
      "Requirement already satisfied: wget in /opt/anaconda3/envs/bioinformatica_py/lib/python3.12/site-packages (3.2)\n",
      "Note: you may need to restart the kernel to use updated packages.\n"
     ]
    }
   ],
   "source": [
    "pip install wget"
   ]
  },
  {
   "cell_type": "code",
   "execution_count": null,
   "id": "58434de5",
   "metadata": {},
   "outputs": [],
   "source": [
    "import wget\n",
    "url = \"ftp://ftp.sra.ebi.ac.uk/vol1/fastq/SRR494/SRR494102/SRR494102.fastq.gz\"\n",
    "filename = wget.download(url)\n",
    "print(f\"\\nDescargado: {filename}\")"
   ]
  },
  {
   "cell_type": "code",
   "execution_count": 1,
   "id": "0a32fe55",
   "metadata": {},
   "outputs": [
    {
     "name": "stdout",
     "output_type": "stream",
     "text": [
      "Archivo descomprimido correctamente\n"
     ]
    }
   ],
   "source": [
    "import gzip\n",
    "import shutil\n",
    "\n",
    "input_file = 'SRR494102.fastq.gz'\n",
    "output_file = 'SRR494102.fastq'\n",
    "\n",
    "with gzip.open(input_file, 'rb') as f_in:\n",
    "    with open(output_file,'wb') as f_out:\n",
    "        shutil.copyfileobj(f_in, f_out)\n",
    "\n",
    "print(\"Archivo descomprimido correctamente\")"
   ]
  },
  {
   "cell_type": "code",
   "execution_count": 2,
   "id": "d7a93623",
   "metadata": {},
   "outputs": [
    {
     "name": "stdout",
     "output_type": "stream",
     "text": [
      "Retrieving notices: done\n",
      "Channels:\n",
      " - conda-forge\n",
      " - defaults\n",
      "Platform: osx-arm64\n",
      "Collecting package metadata (repodata.json): done\n",
      "Solving environment: done\n",
      "\n",
      "## Package Plan ##\n",
      "\n",
      "  environment location: /opt/anaconda3/envs/bioinformatica_py\n",
      "\n",
      "  added / updated specs:\n",
      "    - biopython\n",
      "\n",
      "\n",
      "The following packages will be downloaded:\n",
      "\n",
      "    package                    |            build\n",
      "    ---------------------------|-----------------\n",
      "    biopython-1.85             |  py312hea69d52_1         3.3 MB  conda-forge\n",
      "    ------------------------------------------------------------\n",
      "                                           Total:         3.3 MB\n",
      "\n",
      "The following NEW packages will be INSTALLED:\n",
      "\n",
      "  biopython          conda-forge/osx-arm64::biopython-1.85-py312hea69d52_1 \n",
      "\n",
      "\n",
      "\n",
      "Downloading and Extracting Packages:\n",
      "                                                                                \n",
      "Preparing transaction: done\n",
      "Verifying transaction: done\n",
      "Executing transaction: done\n",
      "\n",
      "Note: you may need to restart the kernel to use updated packages.\n"
     ]
    }
   ],
   "source": [
    "conda install -c conda-forge biopython"
   ]
  },
  {
   "cell_type": "code",
   "execution_count": 1,
   "id": "66873a5b",
   "metadata": {},
   "outputs": [],
   "source": [
    "from Bio import SeqIO\n",
    "fq_dict = SeqIO.index(\"SRR494102.fastq\", \"fastq\")"
   ]
  },
  {
   "cell_type": "code",
   "execution_count": 2,
   "id": "f8927e21",
   "metadata": {},
   "outputs": [
    {
     "data": {
      "text/plain": [
       "27626583"
      ]
     },
     "execution_count": 2,
     "metadata": {},
     "output_type": "execute_result"
    }
   ],
   "source": [
    "len(fq_dict)"
   ]
  },
  {
   "cell_type": "code",
   "execution_count": 3,
   "id": "e296ebd3",
   "metadata": {},
   "outputs": [
    {
     "data": {
      "text/plain": [
       "['SRR494102.1', 'SRR494102.2', 'SRR494102.3', 'SRR494102.4']"
      ]
     },
     "execution_count": 3,
     "metadata": {},
     "output_type": "execute_result"
    }
   ],
   "source": [
    "list(fq_dict.keys())[:4]"
   ]
  },
  {
   "cell_type": "code",
   "execution_count": 4,
   "id": "d259cd97",
   "metadata": {},
   "outputs": [
    {
     "data": {
      "text/plain": [
       "Seq('AGCAACCACCATGACCACCCCTTCACCAACCACCAC')"
      ]
     },
     "execution_count": 4,
     "metadata": {},
     "output_type": "execute_result"
    }
   ],
   "source": [
    "fq_dict[\"SRR494102.20000\"].seq # get 20_000th sequence"
   ]
  },
  {
   "cell_type": "code",
   "execution_count": 5,
   "id": "a37c0727",
   "metadata": {},
   "outputs": [
    {
     "name": "stdout",
     "output_type": "stream",
     "text": [
      "ADN: ATGCGTAA\n",
      "ARN: AUGCGUAA\n"
     ]
    }
   ],
   "source": [
    "from Bio.Seq import Seq\n",
    "\n",
    "# Secuencia de ADN\n",
    "adn = Seq(\"ATGCGTAA\")  # Ejemplo: \"ATGCGTAA\"\n",
    "\n",
    "# Convertir a ARN (reemplazar 'T' con 'U')\n",
    "arn = adn.transcribe()  # Resultado: \"AUGCGUAA\"\n",
    "\n",
    "print(\"ADN:\", adn)\n",
    "print(\"ARN:\", arn)"
   ]
  },
  {
   "cell_type": "code",
   "execution_count": 7,
   "id": "e347a84e",
   "metadata": {},
   "outputs": [
    {
     "name": "stdout",
     "output_type": "stream",
     "text": [
      "ADN: AGCAACCACCATGACCACCCCTTCACCAACCACCAC\n",
      "ARN: AGCAACCACCAUGACCACCCCUUCACCAACCACCAC\n",
      "Proteína: SNHHDHPFTNHH\n",
      "Aminoácidos: Serina, Asparagina, Histidina, Histidina, Ácido aspártico, Histidina, Prolina, Fenilalanina, Treonina, Asparagina, Histidina, Histidina\n"
     ]
    }
   ],
   "source": [
    "from Bio.Seq import Seq\n",
    "from Bio.Data import CodonTable\n",
    "\n",
    "# Secuencia de ADN\n",
    "adn = Seq(\"AGCAACCACCATGACCACCCCTTCACCAACCACCAC\")  # Ejemplo con codones (ATG = Met, CCG = Pro, AAA = Lys, TGG = Trp)\n",
    "\n",
    "# 1. Convertir ADN a ARN (transcripción)\n",
    "arn = adn.transcribe()  # Reemplaza T → U\n",
    "\n",
    "# 2. Traducir ARN a proteína (traducción)\n",
    "proteina = arn.translate()  # \"AUGCCGAAAUGG\" → \"MPKW\" (Met-Pro-Lys-Trp)\n",
    "\n",
    "# 3. Obtener el nombre de cada aminoácido\n",
    "nombres_aa = []\n",
    "standard_table = CodonTable.standard_dna_table  # Tabla de codones estándar\n",
    "\n",
    "for i in range(0, len(adn), 3):\n",
    "    codon = str(adn[i:i+3])  # Obtener codón (ej: \"ATG\")\n",
    "    aa_abrev = proteina[i//3]  # Letra del aminoácido (ej: \"M\")\n",
    "    \n",
    "    # Buscar el nombre completo en la tabla de codones\n",
    "    for aa_info in standard_table.forward_table:\n",
    "        if standard_table.forward_table[codon] == aa_abrev:\n",
    "            nombre_aa = standard_table.forward_table[codon]\n",
    "            # Diccionario de nombres completos (simplificado)\n",
    "            nombres_completos = {\n",
    "                'M': 'Metionina', 'P': 'Prolina', 'K': 'Lisina', 'W': 'Triptófano',\n",
    "                'A': 'Alanina', 'L': 'Leucina', 'V': 'Valina', 'I': 'Isoleucina',\n",
    "                'F': 'Fenilalanina', 'Y': 'Tirosina', 'H': 'Histidina', 'Q': 'Glutamina',\n",
    "                'N': 'Asparagina', 'E': 'Ácido glutámico', 'D': 'Ácido aspártico',\n",
    "                'C': 'Cisteína', 'R': 'Arginina', 'S': 'Serina', 'T': 'Treonina',\n",
    "                'G': 'Glicina', 'Stop': 'Stop'\n",
    "            }\n",
    "            nombres_aa.append(nombres_completos.get(aa_abrev, aa_abrev))\n",
    "            break\n",
    "\n",
    "# Resultados\n",
    "print(\"ADN:\", adn)\n",
    "print(\"ARN:\", arn)\n",
    "print(\"Proteína:\", proteina)\n",
    "print(\"Aminoácidos:\", \", \".join(nombres_aa))"
   ]
  },
  {
   "cell_type": "code",
   "execution_count": null,
   "id": "d17a6414",
   "metadata": {},
   "outputs": [],
   "source": []
  }
 ],
 "metadata": {
  "kernelspec": {
   "display_name": "bioinformatica_py",
   "language": "python",
   "name": "python3"
  },
  "language_info": {
   "codemirror_mode": {
    "name": "ipython",
    "version": 3
   },
   "file_extension": ".py",
   "mimetype": "text/x-python",
   "name": "python",
   "nbconvert_exporter": "python",
   "pygments_lexer": "ipython3",
   "version": "3.12.2"
  }
 },
 "nbformat": 4,
 "nbformat_minor": 5
}
