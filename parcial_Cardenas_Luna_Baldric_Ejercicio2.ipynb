{
 "cells": [
  {
   "cell_type": "code",
   "execution_count": 1,
   "id": "107d50f0",
   "metadata": {},
   "outputs": [
    {
     "name": "stdout",
     "output_type": "stream",
     "text": [
      "Hola Mundo\n"
     ]
    }
   ],
   "source": [
    "print(\"Hola Mundo\")"
   ]
  },
  {
   "cell_type": "code",
   "execution_count": 3,
   "id": "fd1d7548",
   "metadata": {},
   "outputs": [],
   "source": [
    "from docx import Document\n",
    "from docx.shared import Inches, Pt\n",
    "from docx.oxml.ns import qn\n",
    "from docx.enum.section import WD_HEADER_FOOTER\n",
    "from docx.oxml import OxmlElement\n",
    "from PIL import Image"
   ]
  },
  {
   "cell_type": "code",
   "execution_count": 4,
   "id": "4a1d19fe",
   "metadata": {},
   "outputs": [
    {
     "name": "stdout",
     "output_type": "stream",
     "text": [
      "¡Documento creado con éxito!\n"
     ]
    }
   ],
   "source": [
    "from docx import Document\n",
    "\n",
    "# Crear un nuevo documento en blanco\n",
    "documento = Document()\n",
    "\n",
    "# Guardar el documento en un archivo\n",
    "documento.save(\"documento_en_blanco.docx\")\n",
    "\n",
    "print(\"¡Documento creado con éxito!\")"
   ]
  },
  {
   "cell_type": "code",
   "execution_count": 15,
   "id": "2367f573",
   "metadata": {},
   "outputs": [
    {
     "name": "stdout",
     "output_type": "stream",
     "text": [
      "Carátula creada exitosamente!\n"
     ]
    }
   ],
   "source": [
    "from docx import Document\n",
    "from docx.shared import Pt, RGBColor\n",
    "from docx.enum.text import WD_ALIGN_PARAGRAPH\n",
    "\n",
    "def crear_caratula_bioingenieria():\n",
    "    # Crear nuevo documento\n",
    "    doc = Document()\n",
    "    \n",
    "    # Añadir título principal\n",
    "    titulo = doc.add_paragraph()\n",
    "    titulo.alignment = WD_ALIGN_PARAGRAPH.CENTER\n",
    "    run = titulo.add_run(\"BIOINGENIERÍA\")\n",
    "    run.bold = True\n",
    "    run.font.color.rgb = RGBColor(0, 102, 0)  # Verde oscuro\n",
    "    run.font.size = Pt(24)\n",
    "    \n",
    "    # Añadir espacio\n",
    "    doc.add_paragraph()\n",
    "    \n",
    "    # Añadir información de la materia\n",
    "    materia = doc.add_paragraph()\n",
    "    materia.alignment = WD_ALIGN_PARAGRAPH.CENTER\n",
    "    run = materia.add_run(\"Materia: Bioingeniería Aplicada\")\n",
    "    run.font.size = Pt(14)\n",
    "    \n",
    "    # Añadir información del estudiante\n",
    "    estudiante = doc.add_paragraph()\n",
    "    estudiante.alignment = WD_ALIGN_PARAGRAPH.CENTER\n",
    "    run = estudiante.add_run(\"Estudiante: [Tu Nombre]\\nMatrícula: [Tu Matrícula]\\nGrupo: [Tu Grupo]\")\n",
    "    run.font.size = Pt(12)\n",
    "    \n",
    "    # Añadir fecha\n",
    "    fecha = doc.add_paragraph()\n",
    "    fecha.alignment = WD_ALIGN_PARAGRAPH.CENTER\n",
    "    run = fecha.add_run(\"Fecha de entrega: [DD/MM/AAAA]\")\n",
    "    run.italic = True\n",
    "    \n",
    "    # Guardar documento\n",
    "    doc.save(\"Carátula_Bioingeniería.docx\")\n",
    "    print(\"Carátula creada exitosamente!\")\n",
    "\n",
    "# Ejecutar función\n",
    "crear_caratula_bioingenieria()"
   ]
  },
  {
   "cell_type": "code",
   "execution_count": null,
   "id": "766ec084",
   "metadata": {},
   "outputs": [],
   "source": []
  }
 ],
 "metadata": {
  "kernelspec": {
   "display_name": "BaldricCardenastest01",
   "language": "python",
   "name": "python3"
  },
  "language_info": {
   "codemirror_mode": {
    "name": "ipython",
    "version": 3
   },
   "file_extension": ".py",
   "mimetype": "text/x-python",
   "name": "python",
   "nbconvert_exporter": "python",
   "pygments_lexer": "ipython3",
   "version": "3.12.9"
  }
 },
 "nbformat": 4,
 "nbformat_minor": 5
}
